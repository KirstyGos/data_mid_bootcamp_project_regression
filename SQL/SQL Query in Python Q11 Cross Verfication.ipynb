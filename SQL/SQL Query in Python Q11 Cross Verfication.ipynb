{
 "cells": [
  {
   "cell_type": "code",
   "execution_count": null,
   "id": "da8eca43",
   "metadata": {},
   "outputs": [],
   "source": [
    "#There is no house in the SQL database that matches the client’s request as the query return 0 results.\n"
   ]
  },
  {
   "cell_type": "code",
   "execution_count": 2,
   "id": "1d76b7b0",
   "metadata": {},
   "outputs": [],
   "source": [
    "import mysql.connector\n",
    "\n",
    "\n",
    "# establish a connection to your MySQL server\n",
    "mydb = mysql.connector.connect(\n",
    "  host=\"localhost\",\n",
    "  user=\"root\",\n",
    "  password=\"Nicole0401\",\n",
    "  database=\"house_price_regression\"\n",
    ")\n",
    "\n",
    "# create a cursor object\n",
    "mycursor = mydb.cursor()\n",
    "\n",
    "# execute the SQL query\n",
    "mycursor.execute(\"SELECT * FROM house_price_data WHERE bedrooms IN (3,4) AND CEILING(bathrooms) > 3 AND floors = 1 AND waterfront = 0 AND `condition` >= 3 AND grade >= 5 AND price < 300000\")\n",
    "\n",
    "# fetch the results\n",
    "myresult = mycursor.fetchall()\n",
    "\n",
    "# print the results\n",
    "for row in myresult:\n",
    "  print(row)\n",
    "\n",
    "\n"
   ]
  },
  {
   "cell_type": "code",
   "execution_count": null,
   "id": "066efac0",
   "metadata": {},
   "outputs": [],
   "source": [
    "#However, when the bedroom cap is removed, the query return 3 matching houses."
   ]
  },
  {
   "cell_type": "code",
   "execution_count": 3,
   "id": "cf028f63",
   "metadata": {},
   "outputs": [
    {
     "name": "stdout",
     "output_type": "stream",
     "text": [
      "(7316400070, 5, 3.75, 2800, 9900, 1, 0, 0, 3, 7, 2800, 0, 1964, 0, 98023, 47.319, -122.344, 1700, 13200, 255000)\n",
      "(5379801972, 5, 4.0, 1400, 8580, 1, 0, 0, 5, 7, 900, 500, 1954, 0, 98188, 47.456, -122.292, 1220, 8832, 265000)\n",
      "(822059038, 6, 4.5, 2810, 11214, 1, 0, 0, 3, 8, 2010, 800, 1958, 0, 98031, 47.4045, -122.197, 1940, 8349, 290000)\n"
     ]
    }
   ],
   "source": [
    "mycursor.execute(\"SELECT * FROM house_price_data WHERE CEILING(bathrooms) > 3 AND floors = 1 AND waterfront = 0 AND `condition` >= 3 AND grade >= 5 AND price < 300000\")\n",
    "\n",
    "myresult = mycursor.fetchall()\n",
    "\n",
    "for row in myresult:\n",
    "  print(row)\n",
    "\n"
   ]
  }
 ],
 "metadata": {
  "kernelspec": {
   "display_name": "Python 3 (ipykernel)",
   "language": "python",
   "name": "python3"
  },
  "language_info": {
   "codemirror_mode": {
    "name": "ipython",
    "version": 3
   },
   "file_extension": ".py",
   "mimetype": "text/x-python",
   "name": "python",
   "nbconvert_exporter": "python",
   "pygments_lexer": "ipython3",
   "version": "3.9.13"
  }
 },
 "nbformat": 4,
 "nbformat_minor": 5
}
